{
 "cells": [
  {
   "cell_type": "markdown",
   "metadata": {},
   "source": [
    "Write a Python program to implement your own myfilter() function which works exactly like\n",
    "Python's built-in function filter()"
   ]
  },
  {
   "cell_type": "code",
   "execution_count": 22,
   "metadata": {},
   "outputs": [
    {
     "name": "stdout",
     "output_type": "stream",
     "text": [
      "15\n",
      "15\n"
     ]
    }
   ],
   "source": [
    "def myreduce(func_name,iterable_obj):\n",
    "    res=iterable_obj[0]\n",
    "    for i in iterable_obj[1:]:\n",
    "        res=func_name(res,i)\n",
    "    return res\n",
    "\n",
    "\n",
    "def summation(a,b):\n",
    "    return a+b\n",
    "\n",
    "\n",
    "list_n=[1,2,3,4,5]\n",
    "\n",
    "\n",
    "print(myreduce(summation,list_n))   #(Here we are using our own defined function and it's giving us the sum of list)\n",
    "\n",
    "print(myreduce(lambda x,y:x+y,list_n)) #(In in-built reduce function we can give the function name like this and it's giving us the same result)\n",
    "\n"
   ]
  },
  {
   "cell_type": "code",
   "execution_count": 23,
   "metadata": {},
   "outputs": [
    {
     "name": "stdout",
     "output_type": "stream",
     "text": [
      "[4, 6, 8]\n",
      "[5, 7, 9]\n"
     ]
    }
   ],
   "source": [
    "#Write a Python program to implement your own myfilter() function which works exactly like\n",
    "#Python's built-in function filter()\n",
    "\n",
    "def myfilter(func_name,iterable_obj):\n",
    "    res=[]\n",
    "    for i in iterable_obj:\n",
    "        if func_name(i)==True:\n",
    "            res.append(i)\n",
    "    return res\n",
    "\n",
    "\n",
    "#Example:\n",
    "list_n=[4,5,6,7,8,9]\n",
    "is_even=lambda x:x%2==0\n",
    "\n",
    "\n",
    "is_odd=lambda x:x%2!=0\n",
    "\n",
    "\n",
    "print(myfilter(is_even,list_n))\n",
    "print(myfilter(is_odd,list_n))\n"
   ]
  },
  {
   "cell_type": "code",
   "execution_count": 24,
   "metadata": {},
   "outputs": [
    {
     "data": {
      "text/plain": [
       "['A', 'C', 'A', 'D', 'G', 'I', 'L', 'D']"
      ]
     },
     "execution_count": 24,
     "metadata": {},
     "output_type": "execute_result"
    }
   ],
   "source": [
    "#Write List comprehensions to produce the following Lists\n",
    "#['A', 'C', 'A', 'D', 'G', 'I', ’L’, ‘ D’]\n",
    "\n",
    "letters=\"ACADGILD\"\n",
    "[i for i in letters]\n",
    "    "
   ]
  },
  {
   "cell_type": "code",
   "execution_count": 25,
   "metadata": {},
   "outputs": [
    {
     "data": {
      "text/plain": [
       "['x', 'xx', 'xxx', 'xxxx', 'y', 'yy', 'yyy', 'yyyy', 'z', 'zz', 'zzz', 'zzzz']"
      ]
     },
     "execution_count": 25,
     "metadata": {},
     "output_type": "execute_result"
    }
   ],
   "source": [
    "#Write List comprehensions to produce the following Lists\n",
    "#['x', 'xx', 'xxx', 'xxxx', 'y', 'yy', 'yyy', 'yyyy', 'z', 'zz', 'zzz', 'zzzz']\n",
    "\n",
    "letters=[\"x\", \"y\", \"z\"]\n",
    "\n",
    "\n",
    "[i*j for i in letters for j in range(1,5)]\n",
    "\n",
    "\n",
    "    "
   ]
  },
  {
   "cell_type": "code",
   "execution_count": 26,
   "metadata": {},
   "outputs": [
    {
     "data": {
      "text/plain": [
       "['x', 'y', 'z', 'xx', 'yy', 'zz', 'xxx', 'yyy', 'zzz', 'xxxx', 'yyyy', 'zzzz']"
      ]
     },
     "execution_count": 26,
     "metadata": {},
     "output_type": "execute_result"
    }
   ],
   "source": [
    "#Write List comprehensions to produce the following Lists\n",
    "#['x', 'y', 'z', 'xx', 'yy', 'zz', 'xx', 'yy', 'zz', 'xxxx', 'yyyy', 'zzzz']\n",
    "\n",
    "\n",
    "letters=[\"x\", \"y\", \"z\"]\n",
    "\n",
    "\n",
    "\n",
    "[i*j for i in range(1,5) for j in letters  ]"
   ]
  },
  {
   "cell_type": "code",
   "execution_count": 27,
   "metadata": {},
   "outputs": [
    {
     "name": "stdout",
     "output_type": "stream",
     "text": [
      "['x', 'y', 'z', 'xx', 'yy', 'zz', 'xx', 'yy', 'zz', 'xxxx', 'yyyy', 'zzzz']\n"
     ]
    }
   ],
   "source": [
    "#['x', 'y', 'z', 'xx', 'yy', 'zz', 'xx', 'yy', 'zz', 'xxxx', 'yyyy', 'zzzz']\n",
    "\n",
    "\n",
    "letters=[\"x\", \"y\", \"z\"]\n",
    "\n",
    "\n",
    "list_letters=[]\n",
    "for i in range(1,5):\n",
    "    if i==3:\n",
    "        i=2\n",
    "    for j in letters:\n",
    "        k=i*j\n",
    "        list_letters.append(k)\n",
    "\n",
    "\n",
    "\n",
    "print(list_letters)"
   ]
  },
  {
   "cell_type": "code",
   "execution_count": 28,
   "metadata": {},
   "outputs": [
    {
     "data": {
      "text/plain": [
       "[[2], [3], [4], [3], [4], [5], [4], [5], [6]]"
      ]
     },
     "execution_count": 28,
     "metadata": {},
     "output_type": "execute_result"
    }
   ],
   "source": [
    "#Write List comprehensions to produce the following Lists\n",
    "#[[2], [3], [4], [3], [4], [5], [4], [5], [6]]\n",
    "\n",
    "list_nums=[2,3,4,3,4,5,4,5,6]\n",
    "\n",
    "[[i] for i in list_nums]\n"
   ]
  },
  {
   "cell_type": "markdown",
   "metadata": {},
   "source": [
    "# Another Method For Above approach"
   ]
  },
  {
   "cell_type": "code",
   "execution_count": 29,
   "metadata": {},
   "outputs": [
    {
     "data": {
      "text/plain": [
       "[[2], [3], [4], [3], [4], [5], [4], [5], [6]]"
      ]
     },
     "execution_count": 29,
     "metadata": {},
     "output_type": "execute_result"
    }
   ],
   "source": [
    "#Write List comprehensions to produce the following Lists\n",
    "#[[2], [3], [4], [3], [4], [5], [4], [5], [6]]\n",
    "\n",
    "[[i+j] for i in range(2,5) for j in range(3)]"
   ]
  },
  {
   "cell_type": "code",
   "execution_count": 30,
   "metadata": {},
   "outputs": [
    {
     "data": {
      "text/plain": [
       "[[2, 3, 4, 5], [3, 4, 5, 6], [4, 5, 6, 7], [5, 6, 7, 8]]"
      ]
     },
     "execution_count": 30,
     "metadata": {},
     "output_type": "execute_result"
    }
   ],
   "source": [
    "#Write List comprehensions to produce the following Lists\n",
    "# [[2, 3, 4, 5], [3, 4, 5, 6], [4, 5, 6, 7], [5, 6, 7, 8]]\n",
    "\n",
    "\n",
    "list_old=[2,3,4,5]\n",
    "\n",
    "\n",
    "\n",
    "[list(map(lambda x:x+i,list_old))for i in range(4)]"
   ]
  },
  {
   "cell_type": "code",
   "execution_count": 31,
   "metadata": {},
   "outputs": [
    {
     "data": {
      "text/plain": [
       "[(1, 1), (2, 1), (3, 1), (1, 2), (2, 2), (3, 2), (1, 3), (2, 3), (3, 3)]"
      ]
     },
     "execution_count": 31,
     "metadata": {},
     "output_type": "execute_result"
    }
   ],
   "source": [
    "#Write List comprehensions to produce the following Lists\n",
    "# [(1, 1), (2, 1), (3, 1), (1, 2), (2, 2), (3, 2), (1, 3), (2, 3), (3, 3)]\n",
    "\n",
    "list_nums=[1,2,3]\n",
    "\n",
    "[(j,i) for i in range(1,4) for j in list_nums]"
   ]
  },
  {
   "cell_type": "code",
   "execution_count": 34,
   "metadata": {},
   "outputs": [
    {
     "name": "stdout",
     "output_type": "stream",
     "text": [
      "Enter First Side Of Triangle : 2\n",
      "Enter Second Side Of Triangle : 3\n",
      "Enter Third Side Of Triangle : 4\n",
      "Area of triangle:  2.9047375096555625\n"
     ]
    }
   ],
   "source": [
    "# Write a Python Program(with class concepts) to find the area of the triangle using the below\n",
    "# formula.\n",
    "# area = (s*(s-a)*(s-b)*(s-c)) ** 0.5\n",
    "# Function to take the length of the sides of triangle from user should be defined in the parent\n",
    "# class and function to calculate the area should be defined in subclass.\n",
    "\n",
    "class triangle:\n",
    "    a = float(input(\"Enter First Side Of Triangle : \"))\n",
    "    b = float(input(\"Enter Second Side Of Triangle : \"))\n",
    "    c = float(input(\"Enter Third Side Of Triangle : \"))\n",
    "\n",
    "    def __init__(self, a=a, b=b, c=c):\n",
    "        self.a = a\n",
    "        self.b = b\n",
    "        self.c = c\n",
    "\n",
    "\n",
    "class area_triangle(triangle):\n",
    "    def __init__(self):\n",
    "        super().__init__()\n",
    "\n",
    "        \n",
    "    def area(self):\n",
    "        s=(self.a+self.b+self.c)/2\n",
    "\n",
    "        return (s*(s-self.a)*(s-self.b)*(s-self.c))**0.5\n",
    "    \n",
    "\n",
    "tri_2=area_triangle()\n",
    "print(\"Area of triangle: \" , tri_2.area())"
   ]
  },
  {
   "cell_type": "code",
   "execution_count": 35,
   "metadata": {},
   "outputs": [
    {
     "name": "stdout",
     "output_type": "stream",
     "text": [
      "Mangoes\n",
      "Almirah\n"
     ]
    }
   ],
   "source": [
    "# Implement a function longestWord() that takes a list of words and returns the longest one.\n",
    "\n",
    "\n",
    "def longestWord(list_words):\n",
    "    list_tup=[]\n",
    "    for i in list_words:\n",
    "        len_word=len(i)\n",
    "        tup_list=(len_word,i)\n",
    "        list_tup.append(tup_list)\n",
    "    sorted_list=sorted(list_tup)\n",
    "    return sorted_list[-1][1]\n",
    "\n",
    "\n",
    "print(longestWord([\"Mangoes\", \"lichi\", \"pear\", \"grapes\"]))\n",
    "print(longestWord([\"Ball\", \"Almirah\", \"Monk\", \"Laptop\", \"Power\"]))\n",
    "\n",
    "\n",
    "\n",
    "        "
   ]
  },
  {
   "cell_type": "markdown",
   "metadata": {},
   "source": [
    "# Write a Python program using function concept that maps list of words into a list of integers\n",
    "representing the lengths of the corresponding words.\n",
    "Hint: If a list [ ab,cde,erty] is passed on to the python function output should come as [2,3,4]\n",
    "Here 2,3 and 4 are the lengths of the words in the list."
   ]
  },
  {
   "cell_type": "code",
   "execution_count": 36,
   "metadata": {},
   "outputs": [
    {
     "name": "stdout",
     "output_type": "stream",
     "text": [
      "[2, 3, 4]\n",
      "[4, 7, 4, 6, 5]\n"
     ]
    }
   ],
   "source": [
    "def map_list(list_words):\n",
    "    return list(map(len, list_words))\n",
    "\n",
    "\n",
    "\n",
    "print(map_list([\"ab\", \"cde\", \"erty\"]))\n",
    "\n",
    "print(map_list([\"Ball\", \"Almirah\", \"Monk\", \"Laptop\", \"Power\"]))"
   ]
  },
  {
   "cell_type": "code",
   "execution_count": 37,
   "metadata": {},
   "outputs": [
    {
     "name": "stdout",
     "output_type": "stream",
     "text": [
      "True\n"
     ]
    }
   ],
   "source": [
    "#Write a Python function which takes a character (i.e. a string of length 1) and returns True if it is\n",
    "#a vowel, False otherwise.\n",
    "\n",
    "\n",
    "vowels=[\"a\", \"e\", \"i\", \"o\" , \"u\"]\n",
    "\n",
    "def char_vowel(len_1_char):\n",
    "    for i in vowels:\n",
    "        if i == len_1_char:\n",
    "            return True\n",
    "    else:\n",
    "        return False\n",
    "\n",
    "\n",
    "\n",
    "print(char_vowel(\"u\"))"
   ]
  }
 ],
 "metadata": {
  "kernelspec": {
   "display_name": "Python 3",
   "language": "python",
   "name": "python3"
  },
  "language_info": {
   "codemirror_mode": {
    "name": "ipython",
    "version": 3
   },
   "file_extension": ".py",
   "mimetype": "text/x-python",
   "name": "python",
   "nbconvert_exporter": "python",
   "pygments_lexer": "ipython3",
   "version": "3.7.6"
  }
 },
 "nbformat": 4,
 "nbformat_minor": 4
}
